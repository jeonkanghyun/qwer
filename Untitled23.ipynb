{
  "nbformat": 4,
  "nbformat_minor": 0,
  "metadata": {
    "colab": {
      "name": "Untitled23.ipynb",
      "provenance": [],
      "authorship_tag": "ABX9TyNm5e/VUckxFYh2/sTFSMVd",
      "include_colab_link": true
    },
    "kernelspec": {
      "name": "python3",
      "display_name": "Python 3"
    },
    "language_info": {
      "name": "python"
    }
  },
  "cells": [
    {
      "cell_type": "markdown",
      "metadata": {
        "id": "view-in-github",
        "colab_type": "text"
      },
      "source": [
        "<a href=\"https://colab.research.google.com/github/jeonkanghyun/qwer/blob/main/Untitled23.ipynb\" target=\"_parent\"><img src=\"https://colab.research.google.com/assets/colab-badge.svg\" alt=\"Open In Colab\"/></a>"
      ]
    },
    {
      "cell_type": "code",
      "execution_count": null,
      "metadata": {
        "id": "wyG3tWk6ngwQ"
      },
      "outputs": [],
      "source": [
        "rating = []\n",
        "category = []\n",
        "\n",
        "response = requests.get(url)\n",
        "html = response.text\n",
        "soup = BeautifulSoup(html, 'html.parser')\n",
        "\n",
        "    \n",
        "\n",
        "\n",
        "h = input()\n",
        "rating_ls = soup.find_all('span', attrs = {'class': 'w2kbF'})\n",
        "for r in rating_ls:\n",
        "  rating.append(r.get_text())\n",
        "category_ls = soup.find_all('span', attrs = {'class': 'sT93pb w2kbF '})\n",
        "\n",
        "for c in category_ls:\n",
        "  category.append(c.get_text())\n",
        "place = name.index(h)\n",
        "print(rating[place], category[place])"
      ]
    }
  ]
}