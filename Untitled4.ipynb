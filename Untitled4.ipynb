{
  "nbformat": 4,
  "nbformat_minor": 0,
  "metadata": {
    "colab": {
      "name": "Untitled4.ipynb",
      "provenance": [],
      "authorship_tag": "ABX9TyMrv8Wk94VBYqZ4C3wC0Th5",
      "include_colab_link": true
    },
    "kernelspec": {
      "name": "python3",
      "display_name": "Python 3"
    },
    "language_info": {
      "name": "python"
    }
  },
  "cells": [
    {
      "cell_type": "markdown",
      "metadata": {
        "id": "view-in-github",
        "colab_type": "text"
      },
      "source": [
        "<a href=\"https://colab.research.google.com/github/jeonkanghyun/qwer/blob/main/Untitled4.ipynb\" target=\"_parent\"><img src=\"https://colab.research.google.com/assets/colab-badge.svg\" alt=\"Open In Colab\"/></a>"
      ]
    },
    {
      "cell_type": "code",
      "execution_count": 14,
      "metadata": {
        "colab": {
          "base_uri": "https://localhost:8080/"
        },
        "id": "penkr7z97wZJ",
        "outputId": "83f86859-74c0-4767-d429-1dca64bdea0a"
      },
      "outputs": [
        {
          "output_type": "stream",
          "name": "stdout",
          "text": [
            "Looking in indexes: https://pypi.org/simple, https://us-python.pkg.dev/colab-wheels/public/simple/\n",
            "Requirement already satisfied: beautifulsoup4 in /usr/local/lib/python3.7/dist-packages (4.6.3)\n",
            "Looking in indexes: https://pypi.org/simple, https://us-python.pkg.dev/colab-wheels/public/simple/\n",
            "Requirement already satisfied: requests in /usr/local/lib/python3.7/dist-packages (2.23.0)\n",
            "Requirement already satisfied: chardet<4,>=3.0.2 in /usr/local/lib/python3.7/dist-packages (from requests) (3.0.4)\n",
            "Requirement already satisfied: certifi>=2017.4.17 in /usr/local/lib/python3.7/dist-packages (from requests) (2022.5.18.1)\n",
            "Requirement already satisfied: idna<3,>=2.5 in /usr/local/lib/python3.7/dist-packages (from requests) (2.10)\n",
            "Requirement already satisfied: urllib3!=1.25.0,!=1.25.1,<1.26,>=1.21.1 in /usr/local/lib/python3.7/dist-packages (from requests) (1.24.3)\n",
            "Looking in indexes: https://pypi.org/simple, https://us-python.pkg.dev/colab-wheels/public/simple/\n",
            "Requirement already satisfied: lxml in /usr/local/lib/python3.7/dist-packages (4.2.6)\n"
          ]
        }
      ],
      "source": [
        "!pip install beautifulsoup4\n",
        "!pip install requests\n",
        "!pip install lxml"
      ]
    },
    {
      "cell_type": "code",
      "source": [
        "from google.colab import drive\n",
        "drive.mount('/content/drive')\n",
        "%cd /content/drive/MyDrive/Crawling\n",
        "!pwd\n",
        "!ls"
      ],
      "metadata": {
        "colab": {
          "base_uri": "https://localhost:8080/"
        },
        "id": "aMmR8p4x8Z0n",
        "outputId": "3700178a-7c36-4cec-eb59-3c51e0f77775"
      },
      "execution_count": 2,
      "outputs": [
        {
          "output_type": "stream",
          "name": "stdout",
          "text": [
            "Mounted at /content/drive\n",
            "[Errno 2] No such file or directory: '/content/drive/MyDrive/Crawling'\n",
            "/content\n",
            "/content\n",
            "drive  sample_data\n"
          ]
        }
      ]
    },
    {
      "cell_type": "code",
      "source": [
        "import requests\n",
        "from bs4 import BeautifulSoup\n",
        "import csv\n",
        "import time\n",
        "\n",
        "url = 'https://play.google.com/store/games?device=phone'\n",
        "\n",
        "f = open(\"data.csv\", \"w\", encoding='utf-8')\n",
        "writer = csv.writer(f)\n",
        "data = [['name', 'rating', 'category']]\n",
        "writer.writerows(data)\n",
        "name = []\n",
        "def get_data(url):\n",
        "  \n",
        "    response = requests.get(url)\n",
        "    \n",
        "\n",
        "    if response.status_code == 200:\n",
        "        html = response.text\n",
        "        soup = BeautifulSoup(html, 'html.parser')\n",
        "\n",
        "        name_ls = soup.find_all('span', {'class': 'sT93pb DdYX5 OnEJge '})\n",
        "        for i in name_ls:\n",
        "            name.append(i.get_text())\n",
        "\n",
        "        print(name)\n",
        "\n",
        "    else:\n",
        "        print('연결되지않음')\n",
        "        print(response.status_code)\n",
        "\n",
        "\n",
        "get_data(url)\n",
        "\n",
        "for i in range(len(name)):\n",
        "    row = [[name[i]]]#, rating[i], category[i]]]\n",
        "    writer.writerows(row)\n",
        "\n",
        "# 다 입력하고 파일 닫음\n",
        "f.close()\n",
        "\n",
        "\n",
        "\n"
      ],
      "metadata": {
        "colab": {
          "base_uri": "https://localhost:8080/"
        },
        "id": "ZMFRWUGf8hX5",
        "outputId": "54d5c50e-20db-4544-d326-8b2a52851204"
      },
      "execution_count": 13,
      "outputs": [
        {
          "output_type": "stream",
          "name": "stdout",
          "text": [
            "['Roblox', 'Subway Surfers', 'Apex Legends Mobile', 'The Baby In Yellow', 'Sonic Forces - Running Battle', 'Among Us', 'Dislyte', 'Candy Crush Saga', 'Woodoku', 'Bleach: Brave Souls Anime Game', 'Ni no Kuni: Cross Worlds', 'Clash Royale', 'Sonic The Hedgehog 2 Classic', 'BASEBALL 9', 'Mad Skills Motocross 3', 'Geometry Dash World', 'Space shooter - Galaxy attack', 'Pixel Gun 3D - Battle Royale', 'Hill Climb Racing 2', 'Warplanes: WW2 Dogfight', 'Fallout Shelter', 'Crossy Road', 'Modern Strike Online: PvP FPS', 'Galaxy Force: Alien Shooter', 'Real Steel World Robot Boxing', 'Top Speed: Drag & Fast Racing', 'Need for Speed™ No Limits', 'Star Wars™: Galaxy of Heroes', 'War Machines: Tank Army Game', 'Merge Seatopia : Mermaid', 'Cube Stacker Surfer Race Games', 'Oceans of Steel', 'Language of Water', 'Paintball Rush', 'Maze Escape Classic', 'Grand Fishing Game - hunting simulator fish hooked', 'Idle Mine RPG', 'MEKA WARS', 'Fighters of Fate: Anime Battle', 'Car Mechanic Simulator', 'Pocket Shooter: Slay Dragon', 'Baby Pop Bubbles & Dress up', 'Multiplayer Survival War Games', 'Car Eats Car 3D - Alien Racing', 'Last War: Shelter Heroes. WWII', 'Fishing Legend', '8 Ball Journey', 'Merge Marines: Tower Defense', 'Idle Master: Wuxia Manager RPG', 'Vector Full: Parkour Run', 'Clash of Clans', 'Toy Blast', '8 Ball Pool', 'Candy Crush Soda Saga', \"June's Journey: Hidden Objects\", 'Design Home: Real Home Decor', 'Marvel Contest of Champions', 'Homescapes', 'Golf Clash', 'King of Avalon: Dominion', 'Clockmaker: Match 3 Games!', 'Candy Crush Saga', 'Royal Match', 'Family Island™ — Farming game', 'Fire Emblem Heroes', 'Last Shelter: Survival', 'Garena Free Fire: Rampage', 'Roblox', 'Clash Royale', 'Smashy Road: Wanted 2', 'Piano Music Go-EDM Piano Games', 'Stock Car Racing', 'Toddler Games for 2-3 Year Old', 'Hungry Shark World', 'Candy Crush Friends Saga', 'Battle of Warships: Naval Blitz', 'DINO HUNTER: DEADLY SHORES', 'Mech Arena: Robot Showdown', 'Space shooter - Galaxy attack', 'Pixel Gun 3D - Battle Royale', 'Hill Climb Racing 2', 'Egg, Inc.', 'Warplanes: WW2 Dogfight', 'Tomb of the Mask', 'Idle Miner Tycoon: Gold & Cash', 'World War 2: Shooting Games', 'Bubble Pop Origin! Puzzle Game', 'Galaxy Attack: Alien Shooter', 'Candy Crush Soda Saga', 'Hungry Shark World', 'Candy Crush Friends Saga', 'Mech Arena: Robot Showdown', 'Space shooter - Galaxy attack', 'Pixel Gun 3D - Battle Royale', 'Hill Climb Racing 2', 'Egg, Inc.', 'Tomb of the Mask', 'Idle Miner Tycoon: Gold & Cash', 'Galaxy Attack: Alien Shooter', 'Candy Crush Soda Saga', 'Fallout Shelter', 'Baby Game for 2, 3, 4 Year Old', 'MORTAL KOMBAT: A Fighting Game', 'Galaxy Invaders: Alien Shooter', 'Real Steel World Robot Boxing', 'Shadow Fight 3 - RPG fighting']\n"
          ]
        }
      ]
    },
    {
      "cell_type": "code",
      "source": [
        ""
      ],
      "metadata": {
        "id": "vIL813W8Ex8O"
      },
      "execution_count": null,
      "outputs": []
    }
  ]
}