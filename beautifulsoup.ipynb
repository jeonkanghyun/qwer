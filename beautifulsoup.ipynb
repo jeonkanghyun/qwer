{
  "nbformat": 4,
  "nbformat_minor": 0,
  "metadata": {
    "colab": {
      "name": "Untitled4.ipynb",
      "provenance": [],
      "include_colab_link": true
    },
    "kernelspec": {
      "name": "python3",
      "display_name": "Python 3"
    },
    "language_info": {
      "name": "python"
    }
  },
  "cells": [
    {
      "cell_type": "markdown",
      "metadata": {
        "id": "view-in-github",
        "colab_type": "text"
      },
      "source": [
        "<a href=\"https://colab.research.google.com/github/jeonkanghyun/qwer/blob/main/Untitled4.ipynb\" target=\"_parent\"><img src=\"https://colab.research.google.com/assets/colab-badge.svg\" alt=\"Open In Colab\"/></a>"
      ]
    },
    {
      "cell_type": "code",
      "execution_count": null,
      "metadata": {
        "colab": {
          "base_uri": "https://localhost:8080/"
        },
        "id": "penkr7z97wZJ",
        "outputId": "83f86859-74c0-4767-d429-1dca64bdea0a"
      },
      "outputs": [
        {
          "output_type": "stream",
          "name": "stdout",
          "text": [
            "Looking in indexes: https://pypi.org/simple, https://us-python.pkg.dev/colab-wheels/public/simple/\n",
            "Requirement already satisfied: beautifulsoup4 in /usr/local/lib/python3.7/dist-packages (4.6.3)\n",
            "Looking in indexes: https://pypi.org/simple, https://us-python.pkg.dev/colab-wheels/public/simple/\n",
            "Requirement already satisfied: requests in /usr/local/lib/python3.7/dist-packages (2.23.0)\n",
            "Requirement already satisfied: chardet<4,>=3.0.2 in /usr/local/lib/python3.7/dist-packages (from requests) (3.0.4)\n",
            "Requirement already satisfied: certifi>=2017.4.17 in /usr/local/lib/python3.7/dist-packages (from requests) (2022.5.18.1)\n",
            "Requirement already satisfied: idna<3,>=2.5 in /usr/local/lib/python3.7/dist-packages (from requests) (2.10)\n",
            "Requirement already satisfied: urllib3!=1.25.0,!=1.25.1,<1.26,>=1.21.1 in /usr/local/lib/python3.7/dist-packages (from requests) (1.24.3)\n",
            "Looking in indexes: https://pypi.org/simple, https://us-python.pkg.dev/colab-wheels/public/simple/\n",
            "Requirement already satisfied: lxml in /usr/local/lib/python3.7/dist-packages (4.2.6)\n"
          ]
        }
      ],
      "source": [
        "!pip install beautifulsoup4\n",
        "!pip install requests\n",
        "!pip install lxml"
      ]
    },
    {
      "cell_type": "code",
      "source": [
        "from google.colab import drive\n",
        "drive.mount('/content/drive')\n",
        "%cd /content/drive/MyDrive/Crawling\n",
        "!pwd\n",
        "!ls"
      ],
      "metadata": {
        "colab": {
          "base_uri": "https://localhost:8080/"
        },
        "id": "aMmR8p4x8Z0n",
        "outputId": "3700178a-7c36-4cec-eb59-3c51e0f77775"
      },
      "execution_count": null,
      "outputs": [
        {
          "output_type": "stream",
          "name": "stdout",
          "text": [
            "Mounted at /content/drive\n",
            "[Errno 2] No such file or directory: '/content/drive/MyDrive/Crawling'\n",
            "/content\n",
            "/content\n",
            "drive  sample_data\n"
          ]
        }
      ]
    },
    {
      "cell_type": "code",
      "source": [
        "import requests\n",
        "from bs4 import BeautifulSoup\n",
        "import csv\n",
        "import time\n",
        "\n",
        "url = 'https://play.google.com/store/games?device=phone'\n",
        "\n",
        "f = open(\"data.csv\", \"w\", encoding='utf-8')\n",
        "writer = csv.writer(f)\n",
        "data = [['name', 'rating', 'category']]\n",
        "writer.writerows(data)\n",
        "name = []\n",
        "def get_data(url):\n",
        "  \n",
        "    response = requests.get(url)\n",
        "    \n",
        "\n",
        "    if response.status_code == 200:\n",
        "        html = response.text\n",
        "        soup = BeautifulSoup(html, 'html.parser')\n",
        "\n",
        "        name_ls = soup.find_all('span', {'class': 'sT93pb DdYX5 OnEJge '})\n",
        "        for i in name_ls:\n",
        "            name.append(i.get_text())\n",
        "\n",
        "        #print(name)\n",
        "        for o in name:\n",
        "          print(name.index(o)+1, o)\n",
        "\n",
        "    else:\n",
        "        print('연결되지않음')\n",
        "        print(response.status_code)\n",
        "\n",
        "\n",
        "get_data(url)\n",
        "\n",
        "for i in range(len(name)):\n",
        "    row = [[name[i]]]#, rating[i], category[i]]]\n",
        "    writer.writerows(row)\n",
        "\n",
        "f.close()\n",
        "\n",
        "\n",
        "\n"
      ],
      "metadata": {
        "colab": {
          "base_uri": "https://localhost:8080/"
        },
        "id": "ZMFRWUGf8hX5",
        "outputId": "01742c68-d218-4a36-e387-b928b2ebd709"
      },
      "execution_count": null,
      "outputs": [
        {
          "output_type": "stream",
          "name": "stdout",
          "text": [
            "1 Roblox\n",
            "2 Subway Surfers\n",
            "3 Apex Legends Mobile\n",
            "4 The Baby In Yellow\n",
            "5 Sonic Forces - Running Battle\n",
            "6 Among Us\n",
            "7 Dislyte\n",
            "8 Candy Crush Saga\n",
            "9 Woodoku\n",
            "10 Bleach: Brave Souls Anime Game\n",
            "11 Ni no Kuni: Cross Worlds\n",
            "12 Clash Royale\n",
            "13 Sonic The Hedgehog 2 Classic\n",
            "14 BASEBALL 9\n",
            "15 Mad Skills Motocross 3\n",
            "16 Geometry Dash World\n",
            "17 Space shooter - Galaxy attack\n",
            "18 Pixel Gun 3D - Battle Royale\n",
            "19 Hill Climb Racing 2\n",
            "20 Warplanes: WW2 Dogfight\n",
            "21 Fallout Shelter\n",
            "22 Crossy Road\n",
            "23 Modern Strike Online: PvP FPS\n",
            "24 Galaxy Force: Alien Shooter\n",
            "25 Real Steel World Robot Boxing\n",
            "26 Top Speed: Drag & Fast Racing\n",
            "27 Need for Speed™ No Limits\n",
            "28 Star Wars™: Galaxy of Heroes\n",
            "29 War Machines: Tank Army Game\n",
            "30 Merge Seatopia : Mermaid\n",
            "31 Cube Stacker Surfer Race Games\n",
            "32 Oceans of Steel\n",
            "33 Language of Water\n",
            "34 Paintball Rush\n",
            "35 Maze Escape Classic\n",
            "36 Grand Fishing Game - hunting simulator fish hooked\n",
            "37 Idle Mine RPG\n",
            "38 MEKA WARS\n",
            "39 Fighters of Fate: Anime Battle\n",
            "40 Car Mechanic Simulator\n",
            "41 Pocket Shooter: Slay Dragon\n",
            "42 Baby Pop Bubbles & Dress up\n",
            "43 Multiplayer Survival War Games\n",
            "44 Car Eats Car 3D - Alien Racing\n",
            "45 Last War: Shelter Heroes. WWII\n",
            "46 Fishing Legend\n",
            "47 8 Ball Journey\n",
            "48 Merge Marines: Tower Defense\n",
            "49 Idle Master: Wuxia Manager RPG\n",
            "50 Vector Full: Parkour Run\n",
            "51 Clash of Clans\n",
            "52 Toy Blast\n",
            "53 8 Ball Pool\n",
            "54 Candy Crush Soda Saga\n",
            "55 June's Journey: Hidden Objects\n",
            "56 Design Home: Real Home Decor\n",
            "57 Marvel Contest of Champions\n",
            "58 Homescapes\n",
            "59 Golf Clash\n",
            "60 King of Avalon: Dominion\n",
            "61 Clockmaker: Match 3 Games!\n",
            "8 Candy Crush Saga\n",
            "63 Royal Match\n",
            "64 Family Island™ — Farming game\n",
            "65 Fire Emblem Heroes\n",
            "66 Last Shelter: Survival\n",
            "67 Garena Free Fire: Rampage\n",
            "1 Roblox\n",
            "12 Clash Royale\n",
            "70 Smashy Road: Wanted 2\n",
            "71 Piano Music Go-EDM Piano Games\n",
            "72 Stock Car Racing\n",
            "73 Toddler Games for 2-3 Year Old\n",
            "74 Hungry Shark World\n",
            "75 Candy Crush Friends Saga\n",
            "76 Battle of Warships: Naval Blitz\n",
            "77 DINO HUNTER: DEADLY SHORES\n",
            "78 Mech Arena: Robot Showdown\n",
            "17 Space shooter - Galaxy attack\n",
            "18 Pixel Gun 3D - Battle Royale\n",
            "19 Hill Climb Racing 2\n",
            "82 Egg, Inc.\n",
            "20 Warplanes: WW2 Dogfight\n",
            "84 Tomb of the Mask\n",
            "85 Idle Miner Tycoon: Gold & Cash\n",
            "86 World War 2: Shooting Games\n",
            "87 Bubble Pop Origin! Puzzle Game\n",
            "88 Galaxy Attack: Alien Shooter\n",
            "54 Candy Crush Soda Saga\n",
            "74 Hungry Shark World\n",
            "75 Candy Crush Friends Saga\n",
            "78 Mech Arena: Robot Showdown\n",
            "17 Space shooter - Galaxy attack\n",
            "18 Pixel Gun 3D - Battle Royale\n",
            "19 Hill Climb Racing 2\n",
            "82 Egg, Inc.\n",
            "84 Tomb of the Mask\n",
            "85 Idle Miner Tycoon: Gold & Cash\n",
            "88 Galaxy Attack: Alien Shooter\n",
            "54 Candy Crush Soda Saga\n",
            "21 Fallout Shelter\n",
            "102 Baby Game for 2, 3, 4 Year Old\n",
            "103 MORTAL KOMBAT: A Fighting Game\n",
            "104 Galaxy Invaders: Alien Shooter\n",
            "25 Real Steel World Robot Boxing\n",
            "106 Shadow Fight 3 - RPG fighting\n"
          ]
        }
      ]
    },
    {
      "cell_type": "code",
      "source": [
        "rating = []\n",
        "category = []\n",
        "\n",
        "response = requests.get(url)\n",
        "html = response.text\n",
        "soup = BeautifulSoup(html, 'html.parser')\n",
        "\n",
        "    \n",
        "\n",
        "\n",
        "h = input()\n",
        "rating_ls = soup.find_all('span', attrs = {'class': 'w2kbF'})\n",
        "for r in rating_ls:\n",
        "  rating.append(r.get_text())\n",
        "category_ls = soup.find_all('span', attrs = {'class': 'sT93pb w2kbF '})\n",
        "\n",
        "for c in category_ls:\n",
        "  category.append(c.get_text())\n",
        "place = name.index(h)\n",
        "print(rating[place], category[place])"
      ],
      "metadata": {
        "id": "vIL813W8Ex8O"
      },
      "execution_count": null,
      "outputs": []
    }
  ]
}
