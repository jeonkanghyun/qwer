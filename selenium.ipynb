{
  "nbformat": 4,
  "nbformat_minor": 0,
  "metadata": {
    "colab": {
      "name": "selenium.ipynb",
      "provenance": [],
      "toc_visible": true,
      "include_colab_link": true
    },
    "kernelspec": {
      "name": "python3",
      "display_name": "Python 3"
    },
    "language_info": {
      "name": "python"
    }
  },
  "cells": [
    {
      "cell_type": "markdown",
      "metadata": {
        "id": "view-in-github",
        "colab_type": "text"
      },
      "source": [
        "<a href=\"https://colab.research.google.com/github/jeonkanghyun/qwer/blob/main/selenium.ipynb\" target=\"_parent\"><img src=\"https://colab.research.google.com/assets/colab-badge.svg\" alt=\"Open In Colab\"/></a>"
      ]
    },
    {
      "cell_type": "code",
      "execution_count": 60,
      "metadata": {
        "colab": {
          "base_uri": "https://localhost:8080/",
          "height": 136
        },
        "id": "u2BmPRRTeK3V",
        "outputId": "e87a50c5-eea0-418b-e380-eabd961ff828"
      },
      "outputs": [
        {
          "output_type": "error",
          "ename": "SyntaxError",
          "evalue": "ignored",
          "traceback": [
            "\u001b[0;36m  File \u001b[0;32m\"<ipython-input-60-b80ae0d3b855>\"\u001b[0;36m, line \u001b[0;32m5\u001b[0m\n\u001b[0;31m    sys.path.insert(0, 'C:\\Users\\장다은\\OneDrive\\바탕 화면\\기컴프')\u001b[0m\n\u001b[0m                      ^\u001b[0m\n\u001b[0;31mSyntaxError\u001b[0m\u001b[0;31m:\u001b[0m (unicode error) 'unicodeescape' codec can't decode bytes in position 2-3: truncated \\UXXXXXXXX escape\n"
          ]
        }
      ],
      "source": [
        "!pip install Selenium\n",
        "!apt-get update\n",
        "!apt install chromium-chromedriver\n",
        "import sys\n",
        "sys.path.insert(0, '기컴프')"
      ]
    },
    {
      "cell_type": "code",
      "source": [
        "import sys\n",
        "sys.path.insert(0, '기컴프')"
      ],
      "metadata": {
        "id": "pFFsSs3EprcP",
        "outputId": "ff93fae2-5393-430b-9fc6-ad9d920d4e72",
        "colab": {
          "base_uri": "https://localhost:8080/",
          "height": 136
        }
      },
      "execution_count": 59,
      "outputs": [
        {
          "output_type": "error",
          "ename": "SyntaxError",
          "evalue": "ignored",
          "traceback": [
            "\u001b[0;36m  File \u001b[0;32m\"<ipython-input-59-7963c2015043>\"\u001b[0;36m, line \u001b[0;32m2\u001b[0m\n\u001b[0;31m    sys.path.insert(0, 'C:\\Users\\장다은\\OneDrive\\바탕 화면\\기컴프')\u001b[0m\n\u001b[0m                      ^\u001b[0m\n\u001b[0;31mSyntaxError\u001b[0m\u001b[0;31m:\u001b[0m (unicode error) 'unicodeescape' codec can't decode bytes in position 2-3: truncated \\UXXXXXXXX escape\n"
          ]
        }
      ]
    },
    {
      "cell_type": "code",
      "source": [
        "from selenium import webdriver\n",
        "\n",
        "chrome_options = webdriver.ChromeOptions()\n",
        "chrome_options.add_argument('--headless')\n",
        "chrome_options.add_argument('--no-sandbox')\n",
        "chrome_options.add_argument('--disable-dev-shm-usage')"
      ],
      "metadata": {
        "id": "RbnKOgN-p2EV"
      },
      "execution_count": 29,
      "outputs": []
    },
    {
      "cell_type": "code",
      "source": [
        "wd = webdriver.Chrome('chromedriver', options=chrome_options)\n"
      ],
      "metadata": {
        "id": "RyYrVvtFrbr3"
      },
      "execution_count": 30,
      "outputs": []
    },
    {
      "cell_type": "code",
      "source": [
        "wd.get(\"https://www.oliveyoung.co.kr/store/main/getHotdealList.do\")\n"
      ],
      "metadata": {
        "id": "XOHQ1hIEry3F"
      },
      "execution_count": 31,
      "outputs": []
    },
    {
      "cell_type": "code",
      "source": [
        "for ul in wd.find_elements_by_css_selector('#todaySpecial-container > li > div > div > a > span'):\n",
        "  print(ul.text)"
      ],
      "metadata": {
        "id": "2w01SyJhuIYP",
        "outputId": "3c821ca9-f6f5-449b-9a48-0f602ed435d1",
        "colab": {
          "base_uri": "https://localhost:8080/"
        }
      },
      "execution_count": 32,
      "outputs": [
        {
          "output_type": "stream",
          "name": "stderr",
          "text": [
            "/usr/local/lib/python3.7/dist-packages/ipykernel_launcher.py:1: DeprecationWarning: find_elements_by_css_selector is deprecated. Please use find_elements(by=By.CSS_SELECTOR, value=css_selector) instead\n",
            "  \"\"\"Entry point for launching an IPython kernel.\n"
          ]
        },
        {
          "output_type": "stream",
          "name": "stdout",
          "text": [
            "[디렉터파이 Pick] 아이소이 속보습, 100시간 장수진 수분크림 (본품70ml+30ml 추가 증정)\n",
            "[단독기획] 헤라 실키 스테이 24H 롱웨어 파운데이션 (본품+전용브러쉬+클렌징폼 증정)\n",
            "BRTC 트레이너 옴므 올인원 밀크 200ml 기획 (+50ml 증정)\n",
            "[증량] 스트라이덱스 센시티브 패드 90매\n",
            "모레모 헤어 트리트먼트 미라클 2X 480ml (60ml 증정)\n",
            "[하루특가]라로슈포제 똘러리앙 포밍클렌저 125ml 기획\n",
            "에스쁘아 에어 퍼프 5개입\n",
            "[NEW] 컬러그램 음영 창조 라이너\n",
            "인클리어 질세정기 10P/9P 택 1 (의료기기)\n",
            "라운드랩 자작나무 수분 톤업 선크림 50ml 기획(클렌저 20ml 증정)\n"
          ]
        }
      ]
    },
    {
      "cell_type": "code",
      "source": [
        "import pandas as pd\n",
        "from selenium import webdriver\n",
        "from selenium.webdriver.common.keys import Keys\n",
        "import time\n"
      ],
      "metadata": {
        "id": "_ebt9YE9uB-n"
      },
      "execution_count": null,
      "outputs": []
    },
    {
      "cell_type": "code",
      "source": [
        "a=input()\n",
        "driver = webdriver.Chrome('기컴프/chromedriver')\n",
        "url = \"https://www.oliveyoung.co.kr\"\n",
        "driver.get(url)\n",
        "\n",
        "time.sleep(10)\n",
        "\n",
        "serch=driver.find_element_by_xpath('//*[@id=\"Header\"]/div[2]/comment()')\n",
        "serch.click()\n",
        "driver.find_elements_by_xpath('//*[@id=\"Header\"]/div[2]/comment()').send_keys('a')\n",
        "serch.send_keys(Keys.ENTER)\n",
        "res=[]\n",
        "#for _ in range(1):\n",
        "  time.sleep(10)\n",
        "  try:\n",
        "    sale=driver.find_elements_by_xpath(f'//*[@id=\"w_cate_prd_list\"]/li/div/p[1]/span[2]').text\n",
        "    print(f'{sale}')\n",
        "  except:\n",
        "    sale=\"NAN\"\n",
        "    pass\n",
        "  try:\n",
        "    coast=driver.find_element_by_xpath(f'//*[@id=\"w_cate_prd_list\"]/li/div/p[1]/span[1]').text\n",
        "    print(f'{coast}')\n",
        "  except:\n",
        "    coast=\"NAN\"\n",
        "    pass\n",
        "res.append((sale,coast))\n",
        "driver.quit()\n",
        "\n",
        "import pandas as pd\n",
        "data=pd.DataFrame(res)\n",
        "data.to_cvs('.data.cvs')\n"
      ],
      "metadata": {
        "id": "4Xzee9gvCmx-",
        "outputId": "8ff4a494-8f34-45f7-e742-f45bafb0ad75",
        "colab": {
          "base_uri": "https://localhost:8080/",
          "height": 136
        }
      },
      "execution_count": 57,
      "outputs": [
        {
          "output_type": "error",
          "ename": "SyntaxError",
          "evalue": "ignored",
          "traceback": [
            "\u001b[0;36m  File \u001b[0;32m\"<ipython-input-57-04f5a21f2d0d>\"\u001b[0;36m, line \u001b[0;32m2\u001b[0m\n\u001b[0;31m    driver = webdriver.Chrome('C:\\Users\\장다은\\OneDrive\\바탕 화면\\기컴프/chromedriver')\u001b[0m\n\u001b[0m                             ^\u001b[0m\n\u001b[0;31mSyntaxError\u001b[0m\u001b[0;31m:\u001b[0m (unicode error) 'unicodeescape' codec can't decode bytes in position 2-3: truncated \\UXXXXXXXX escape\n"
          ]
        }
      ]
    },
    {
      "cell_type": "code",
      "source": [
        "cmd"
      ],
      "metadata": {
        "id": "M0zfYZ1swL1s"
      },
      "execution_count": null,
      "outputs": []
    }
  ]
}